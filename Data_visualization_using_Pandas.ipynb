{
 "cells": [
  {
   "cell_type": "markdown",
   "metadata": {},
   "source": [
    "# Pandas Built-in Data Visualization\n",
    "\n",
    "Hi Guys,<br>\n",
    "Welcome to [pandas for Data Visualization](https://pandas.pydata.org/pandas-docs/stable/visualization.html) now. In the Data Analysis section, we have explored the power of pandas for data analysis. Let's talk about pandas built-in data visualization capabilities. We can create decent looking plots using pandas. This is actually built on matplotlib and embedded into pandas for quick use. <br>\n",
    "\n",
    "Let's take a look!\n",
    "### Histograms\n",
    "### Area plot \n",
    "### Bar plots\n",
    "### Line plots\n",
    "### Scatter plots\n",
    "### BoxPlots\n",
    "### Pie Plot "
   ]
  },
  {
   "cell_type": "code",
   "execution_count": 1,
   "metadata": {},
   "outputs": [],
   "source": [
    "# let's do some imports first\n",
    "import numpy as np\n",
    "import pandas as pd\n",
    "#%matplotlib inline"
   ]
  },
  {
   "cell_type": "markdown",
   "metadata": {},
   "source": [
    "Let's create some random datasets now! <br>\n",
    "df1 with date as index and df2 with sequential index.\n",
    "\n",
    "*Although, we can use seaborn built-in datasets as well. To make this lecture as a separate and independent, I am creating new data frames here to use.* "
   ]
  },
  {
   "cell_type": "markdown",
   "metadata": {},
   "source": [
    "### Generating `df1`"
   ]
  },
  {
   "cell_type": "code",
   "execution_count": 2,
   "metadata": {},
   "outputs": [],
   "source": [
    "#We can use date_range function from pandas\n",
    "# periods = 500, no of periods (days) to generate\n",
    "dates = pd.date_range('1/1/2000', periods=500)\n",
    "# Let's use numpy's randn for \"standard normal\" distribution\n",
    "data1 = np.random.randn(500,3) #(500,3) to tell the shape we want \n",
    "# # randn(1000,4) 1000 by 4 2D array\n",
    "df1 = pd.DataFrame(data = data1, index=dates, columns=['A', 'B', 'C'])"
   ]
  },
  {
   "cell_type": "code",
   "execution_count": 4,
   "metadata": {},
   "outputs": [
    {
     "data": {
      "text/plain": [
       "DatetimeIndex(['2000-01-01', '2000-01-02', '2000-01-03', '2000-01-04',\n",
       "               '2000-01-05', '2000-01-06', '2000-01-07', '2000-01-08',\n",
       "               '2000-01-09', '2000-01-10',\n",
       "               ...\n",
       "               '2001-05-05', '2001-05-06', '2001-05-07', '2001-05-08',\n",
       "               '2001-05-09', '2001-05-10', '2001-05-11', '2001-05-12',\n",
       "               '2001-05-13', '2001-05-14'],\n",
       "              dtype='datetime64[ns]', length=500, freq='D')"
      ]
     },
     "execution_count": 4,
     "metadata": {},
     "output_type": "execute_result"
    }
   ],
   "source": []
  },
  {
   "cell_type": "code",
   "execution_count": 3,
   "metadata": {},
   "outputs": [
    {
     "data": {
      "text/html": [
       "<div>\n",
       "<style scoped>\n",
       "    .dataframe tbody tr th:only-of-type {\n",
       "        vertical-align: middle;\n",
       "    }\n",
       "\n",
       "    .dataframe tbody tr th {\n",
       "        vertical-align: top;\n",
       "    }\n",
       "\n",
       "    .dataframe thead th {\n",
       "        text-align: right;\n",
       "    }\n",
       "</style>\n",
       "<table border=\"1\" class=\"dataframe\">\n",
       "  <thead>\n",
       "    <tr style=\"text-align: right;\">\n",
       "      <th></th>\n",
       "      <th>A</th>\n",
       "      <th>B</th>\n",
       "      <th>C</th>\n",
       "    </tr>\n",
       "  </thead>\n",
       "  <tbody>\n",
       "    <tr>\n",
       "      <th>2000-01-01</th>\n",
       "      <td>0.526667</td>\n",
       "      <td>-2.022865</td>\n",
       "      <td>0.426657</td>\n",
       "    </tr>\n",
       "    <tr>\n",
       "      <th>2000-01-02</th>\n",
       "      <td>-0.835024</td>\n",
       "      <td>-0.769787</td>\n",
       "      <td>0.258360</td>\n",
       "    </tr>\n",
       "    <tr>\n",
       "      <th>2000-01-03</th>\n",
       "      <td>-0.556293</td>\n",
       "      <td>1.082719</td>\n",
       "      <td>-0.424435</td>\n",
       "    </tr>\n",
       "    <tr>\n",
       "      <th>2000-01-04</th>\n",
       "      <td>-0.122369</td>\n",
       "      <td>0.743265</td>\n",
       "      <td>-0.205559</td>\n",
       "    </tr>\n",
       "    <tr>\n",
       "      <th>2000-01-05</th>\n",
       "      <td>-0.918902</td>\n",
       "      <td>-0.359422</td>\n",
       "      <td>-2.103710</td>\n",
       "    </tr>\n",
       "    <tr>\n",
       "      <th>...</th>\n",
       "      <td>...</td>\n",
       "      <td>...</td>\n",
       "      <td>...</td>\n",
       "    </tr>\n",
       "    <tr>\n",
       "      <th>2001-05-10</th>\n",
       "      <td>0.136214</td>\n",
       "      <td>-0.634794</td>\n",
       "      <td>-0.885688</td>\n",
       "    </tr>\n",
       "    <tr>\n",
       "      <th>2001-05-11</th>\n",
       "      <td>0.983132</td>\n",
       "      <td>0.373660</td>\n",
       "      <td>0.357247</td>\n",
       "    </tr>\n",
       "    <tr>\n",
       "      <th>2001-05-12</th>\n",
       "      <td>0.889357</td>\n",
       "      <td>1.281603</td>\n",
       "      <td>-0.589314</td>\n",
       "    </tr>\n",
       "    <tr>\n",
       "      <th>2001-05-13</th>\n",
       "      <td>0.193386</td>\n",
       "      <td>-0.080786</td>\n",
       "      <td>-0.365108</td>\n",
       "    </tr>\n",
       "    <tr>\n",
       "      <th>2001-05-14</th>\n",
       "      <td>0.471009</td>\n",
       "      <td>1.670253</td>\n",
       "      <td>-0.173922</td>\n",
       "    </tr>\n",
       "  </tbody>\n",
       "</table>\n",
       "<p>500 rows × 3 columns</p>\n",
       "</div>"
      ],
      "text/plain": [
       "                   A         B         C\n",
       "2000-01-01  0.526667 -2.022865  0.426657\n",
       "2000-01-02 -0.835024 -0.769787  0.258360\n",
       "2000-01-03 -0.556293  1.082719 -0.424435\n",
       "2000-01-04 -0.122369  0.743265 -0.205559\n",
       "2000-01-05 -0.918902 -0.359422 -2.103710\n",
       "...              ...       ...       ...\n",
       "2001-05-10  0.136214 -0.634794 -0.885688\n",
       "2001-05-11  0.983132  0.373660  0.357247\n",
       "2001-05-12  0.889357  1.281603 -0.589314\n",
       "2001-05-13  0.193386 -0.080786 -0.365108\n",
       "2001-05-14  0.471009  1.670253 -0.173922\n",
       "\n",
       "[500 rows x 3 columns]"
      ]
     },
     "execution_count": 3,
     "metadata": {},
     "output_type": "execute_result"
    }
   ],
   "source": [
    "df1"
   ]
  },
  {
   "cell_type": "code",
   "execution_count": 8,
   "metadata": {},
   "outputs": [
    {
     "data": {
      "text/html": [
       "<div>\n",
       "<style scoped>\n",
       "    .dataframe tbody tr th:only-of-type {\n",
       "        vertical-align: middle;\n",
       "    }\n",
       "\n",
       "    .dataframe tbody tr th {\n",
       "        vertical-align: top;\n",
       "    }\n",
       "\n",
       "    .dataframe thead th {\n",
       "        text-align: right;\n",
       "    }\n",
       "</style>\n",
       "<table border=\"1\" class=\"dataframe\">\n",
       "  <thead>\n",
       "    <tr style=\"text-align: right;\">\n",
       "      <th></th>\n",
       "      <th>A</th>\n",
       "      <th>B</th>\n",
       "      <th>C</th>\n",
       "    </tr>\n",
       "  </thead>\n",
       "  <tbody>\n",
       "    <tr>\n",
       "      <th>2000-01-01</th>\n",
       "      <td>0.526667</td>\n",
       "      <td>-2.022865</td>\n",
       "      <td>0.426657</td>\n",
       "    </tr>\n",
       "    <tr>\n",
       "      <th>2000-01-02</th>\n",
       "      <td>-0.835024</td>\n",
       "      <td>-0.769787</td>\n",
       "      <td>0.258360</td>\n",
       "    </tr>\n",
       "    <tr>\n",
       "      <th>2000-01-03</th>\n",
       "      <td>-0.556293</td>\n",
       "      <td>1.082719</td>\n",
       "      <td>-0.424435</td>\n",
       "    </tr>\n",
       "    <tr>\n",
       "      <th>2000-01-04</th>\n",
       "      <td>-0.122369</td>\n",
       "      <td>0.743265</td>\n",
       "      <td>-0.205559</td>\n",
       "    </tr>\n",
       "    <tr>\n",
       "      <th>2000-01-05</th>\n",
       "      <td>-0.918902</td>\n",
       "      <td>-0.359422</td>\n",
       "      <td>-2.103710</td>\n",
       "    </tr>\n",
       "  </tbody>\n",
       "</table>\n",
       "</div>"
      ],
      "text/plain": [
       "                   A         B         C\n",
       "2000-01-01  0.526667 -2.022865  0.426657\n",
       "2000-01-02 -0.835024 -0.769787  0.258360\n",
       "2000-01-03 -0.556293  1.082719 -0.424435\n",
       "2000-01-04 -0.122369  0.743265 -0.205559\n",
       "2000-01-05 -0.918902 -0.359422 -2.103710"
      ]
     },
     "execution_count": 8,
     "metadata": {},
     "output_type": "execute_result"
    }
   ],
   "source": [
    "df1.head()"
   ]
  },
  {
   "cell_type": "markdown",
   "metadata": {},
   "source": [
    "Let's add col_D as a column to df1"
   ]
  },
  {
   "cell_type": "code",
   "execution_count": 10,
   "metadata": {},
   "outputs": [],
   "source": [
    "# Let's generate a series using rand()\n",
    "col_D = np.random.rand(500)\n",
    "df1['D']= col_D"
   ]
  },
  {
   "cell_type": "code",
   "execution_count": 11,
   "metadata": {
    "scrolled": true
   },
   "outputs": [
    {
     "data": {
      "text/html": [
       "<div>\n",
       "<style scoped>\n",
       "    .dataframe tbody tr th:only-of-type {\n",
       "        vertical-align: middle;\n",
       "    }\n",
       "\n",
       "    .dataframe tbody tr th {\n",
       "        vertical-align: top;\n",
       "    }\n",
       "\n",
       "    .dataframe thead th {\n",
       "        text-align: right;\n",
       "    }\n",
       "</style>\n",
       "<table border=\"1\" class=\"dataframe\">\n",
       "  <thead>\n",
       "    <tr style=\"text-align: right;\">\n",
       "      <th></th>\n",
       "      <th>A</th>\n",
       "      <th>B</th>\n",
       "      <th>C</th>\n",
       "      <th>D</th>\n",
       "    </tr>\n",
       "  </thead>\n",
       "  <tbody>\n",
       "    <tr>\n",
       "      <th>2000-01-01</th>\n",
       "      <td>0.526667</td>\n",
       "      <td>-2.022865</td>\n",
       "      <td>0.426657</td>\n",
       "      <td>0.480255</td>\n",
       "    </tr>\n",
       "    <tr>\n",
       "      <th>2000-01-02</th>\n",
       "      <td>-0.835024</td>\n",
       "      <td>-0.769787</td>\n",
       "      <td>0.258360</td>\n",
       "      <td>0.238492</td>\n",
       "    </tr>\n",
       "    <tr>\n",
       "      <th>2000-01-03</th>\n",
       "      <td>-0.556293</td>\n",
       "      <td>1.082719</td>\n",
       "      <td>-0.424435</td>\n",
       "      <td>0.962380</td>\n",
       "    </tr>\n",
       "    <tr>\n",
       "      <th>2000-01-04</th>\n",
       "      <td>-0.122369</td>\n",
       "      <td>0.743265</td>\n",
       "      <td>-0.205559</td>\n",
       "      <td>0.573202</td>\n",
       "    </tr>\n",
       "    <tr>\n",
       "      <th>2000-01-05</th>\n",
       "      <td>-0.918902</td>\n",
       "      <td>-0.359422</td>\n",
       "      <td>-2.103710</td>\n",
       "      <td>0.998287</td>\n",
       "    </tr>\n",
       "    <tr>\n",
       "      <th>...</th>\n",
       "      <td>...</td>\n",
       "      <td>...</td>\n",
       "      <td>...</td>\n",
       "      <td>...</td>\n",
       "    </tr>\n",
       "    <tr>\n",
       "      <th>2001-05-10</th>\n",
       "      <td>0.136214</td>\n",
       "      <td>-0.634794</td>\n",
       "      <td>-0.885688</td>\n",
       "      <td>0.477147</td>\n",
       "    </tr>\n",
       "    <tr>\n",
       "      <th>2001-05-11</th>\n",
       "      <td>0.983132</td>\n",
       "      <td>0.373660</td>\n",
       "      <td>0.357247</td>\n",
       "      <td>0.239736</td>\n",
       "    </tr>\n",
       "    <tr>\n",
       "      <th>2001-05-12</th>\n",
       "      <td>0.889357</td>\n",
       "      <td>1.281603</td>\n",
       "      <td>-0.589314</td>\n",
       "      <td>0.086516</td>\n",
       "    </tr>\n",
       "    <tr>\n",
       "      <th>2001-05-13</th>\n",
       "      <td>0.193386</td>\n",
       "      <td>-0.080786</td>\n",
       "      <td>-0.365108</td>\n",
       "      <td>0.087757</td>\n",
       "    </tr>\n",
       "    <tr>\n",
       "      <th>2001-05-14</th>\n",
       "      <td>0.471009</td>\n",
       "      <td>1.670253</td>\n",
       "      <td>-0.173922</td>\n",
       "      <td>0.768292</td>\n",
       "    </tr>\n",
       "  </tbody>\n",
       "</table>\n",
       "<p>500 rows × 4 columns</p>\n",
       "</div>"
      ],
      "text/plain": [
       "                   A         B         C         D\n",
       "2000-01-01  0.526667 -2.022865  0.426657  0.480255\n",
       "2000-01-02 -0.835024 -0.769787  0.258360  0.238492\n",
       "2000-01-03 -0.556293  1.082719 -0.424435  0.962380\n",
       "2000-01-04 -0.122369  0.743265 -0.205559  0.573202\n",
       "2000-01-05 -0.918902 -0.359422 -2.103710  0.998287\n",
       "...              ...       ...       ...       ...\n",
       "2001-05-10  0.136214 -0.634794 -0.885688  0.477147\n",
       "2001-05-11  0.983132  0.373660  0.357247  0.239736\n",
       "2001-05-12  0.889357  1.281603 -0.589314  0.086516\n",
       "2001-05-13  0.193386 -0.080786 -0.365108  0.087757\n",
       "2001-05-14  0.471009  1.670253 -0.173922  0.768292\n",
       "\n",
       "[500 rows x 4 columns]"
      ]
     },
     "execution_count": 11,
     "metadata": {},
     "output_type": "execute_result"
    }
   ],
   "source": [
    "df1"
   ]
  },
  {
   "cell_type": "markdown",
   "metadata": {},
   "source": [
    "### Generating `df2`"
   ]
  },
  {
   "cell_type": "code",
   "execution_count": 14,
   "metadata": {},
   "outputs": [
    {
     "data": {
      "text/plain": [
       "array([[0.34067017, 0.35650114, 0.41128665],\n",
       "       [0.94528858, 0.17105719, 0.8595394 ],\n",
       "       [0.12224459, 0.00336018, 0.21296099],\n",
       "       [0.82394405, 0.06386886, 0.06655322],\n",
       "       [0.69060875, 0.50492182, 0.66496055],\n",
       "       [0.71936998, 0.78228709, 0.02872129],\n",
       "       [0.69245738, 0.70702419, 0.66082603],\n",
       "       [0.18912586, 0.18557486, 0.29257205],\n",
       "       [0.28094593, 0.8105832 , 0.2193815 ],\n",
       "       [0.71030892, 0.12830706, 0.07619689],\n",
       "       [0.26007053, 0.63059708, 0.68931572],\n",
       "       [0.86149176, 0.28051323, 0.06439541],\n",
       "       [0.54958146, 0.47388563, 0.67577008],\n",
       "       [0.79265263, 0.571934  , 0.13172018],\n",
       "       [0.23868907, 0.10634584, 0.07736633],\n",
       "       [0.80983598, 0.12179183, 0.52659244],\n",
       "       [0.07360959, 0.64105659, 0.61486514],\n",
       "       [0.13899118, 0.78138485, 0.25043555],\n",
       "       [0.6802756 , 0.50973399, 0.46467875],\n",
       "       [0.76304575, 0.80028897, 0.11529163]])"
      ]
     },
     "execution_count": 14,
     "metadata": {},
     "output_type": "execute_result"
    }
   ],
   "source": [
    "# rand(20,3) 20 by 3 2D array\n",
    "data2 = np.random.rand(20,3)\n",
    "col = ['X', 'Y', 'Z']\n",
    "df2 = pd.DataFrame(data = data2, columns=col)\n"
   ]
  },
  {
   "cell_type": "code",
   "execution_count": 15,
   "metadata": {
    "scrolled": true
   },
   "outputs": [
    {
     "data": {
      "text/html": [
       "<div>\n",
       "<style scoped>\n",
       "    .dataframe tbody tr th:only-of-type {\n",
       "        vertical-align: middle;\n",
       "    }\n",
       "\n",
       "    .dataframe tbody tr th {\n",
       "        vertical-align: top;\n",
       "    }\n",
       "\n",
       "    .dataframe thead th {\n",
       "        text-align: right;\n",
       "    }\n",
       "</style>\n",
       "<table border=\"1\" class=\"dataframe\">\n",
       "  <thead>\n",
       "    <tr style=\"text-align: right;\">\n",
       "      <th></th>\n",
       "      <th>X</th>\n",
       "      <th>Y</th>\n",
       "      <th>Z</th>\n",
       "    </tr>\n",
       "  </thead>\n",
       "  <tbody>\n",
       "    <tr>\n",
       "      <th>0</th>\n",
       "      <td>0.340670</td>\n",
       "      <td>0.356501</td>\n",
       "      <td>0.411287</td>\n",
       "    </tr>\n",
       "    <tr>\n",
       "      <th>1</th>\n",
       "      <td>0.945289</td>\n",
       "      <td>0.171057</td>\n",
       "      <td>0.859539</td>\n",
       "    </tr>\n",
       "    <tr>\n",
       "      <th>2</th>\n",
       "      <td>0.122245</td>\n",
       "      <td>0.003360</td>\n",
       "      <td>0.212961</td>\n",
       "    </tr>\n",
       "    <tr>\n",
       "      <th>3</th>\n",
       "      <td>0.823944</td>\n",
       "      <td>0.063869</td>\n",
       "      <td>0.066553</td>\n",
       "    </tr>\n",
       "    <tr>\n",
       "      <th>4</th>\n",
       "      <td>0.690609</td>\n",
       "      <td>0.504922</td>\n",
       "      <td>0.664961</td>\n",
       "    </tr>\n",
       "    <tr>\n",
       "      <th>5</th>\n",
       "      <td>0.719370</td>\n",
       "      <td>0.782287</td>\n",
       "      <td>0.028721</td>\n",
       "    </tr>\n",
       "    <tr>\n",
       "      <th>6</th>\n",
       "      <td>0.692457</td>\n",
       "      <td>0.707024</td>\n",
       "      <td>0.660826</td>\n",
       "    </tr>\n",
       "    <tr>\n",
       "      <th>7</th>\n",
       "      <td>0.189126</td>\n",
       "      <td>0.185575</td>\n",
       "      <td>0.292572</td>\n",
       "    </tr>\n",
       "    <tr>\n",
       "      <th>8</th>\n",
       "      <td>0.280946</td>\n",
       "      <td>0.810583</td>\n",
       "      <td>0.219381</td>\n",
       "    </tr>\n",
       "    <tr>\n",
       "      <th>9</th>\n",
       "      <td>0.710309</td>\n",
       "      <td>0.128307</td>\n",
       "      <td>0.076197</td>\n",
       "    </tr>\n",
       "    <tr>\n",
       "      <th>10</th>\n",
       "      <td>0.260071</td>\n",
       "      <td>0.630597</td>\n",
       "      <td>0.689316</td>\n",
       "    </tr>\n",
       "    <tr>\n",
       "      <th>11</th>\n",
       "      <td>0.861492</td>\n",
       "      <td>0.280513</td>\n",
       "      <td>0.064395</td>\n",
       "    </tr>\n",
       "    <tr>\n",
       "      <th>12</th>\n",
       "      <td>0.549581</td>\n",
       "      <td>0.473886</td>\n",
       "      <td>0.675770</td>\n",
       "    </tr>\n",
       "    <tr>\n",
       "      <th>13</th>\n",
       "      <td>0.792653</td>\n",
       "      <td>0.571934</td>\n",
       "      <td>0.131720</td>\n",
       "    </tr>\n",
       "    <tr>\n",
       "      <th>14</th>\n",
       "      <td>0.238689</td>\n",
       "      <td>0.106346</td>\n",
       "      <td>0.077366</td>\n",
       "    </tr>\n",
       "    <tr>\n",
       "      <th>15</th>\n",
       "      <td>0.809836</td>\n",
       "      <td>0.121792</td>\n",
       "      <td>0.526592</td>\n",
       "    </tr>\n",
       "    <tr>\n",
       "      <th>16</th>\n",
       "      <td>0.073610</td>\n",
       "      <td>0.641057</td>\n",
       "      <td>0.614865</td>\n",
       "    </tr>\n",
       "    <tr>\n",
       "      <th>17</th>\n",
       "      <td>0.138991</td>\n",
       "      <td>0.781385</td>\n",
       "      <td>0.250436</td>\n",
       "    </tr>\n",
       "    <tr>\n",
       "      <th>18</th>\n",
       "      <td>0.680276</td>\n",
       "      <td>0.509734</td>\n",
       "      <td>0.464679</td>\n",
       "    </tr>\n",
       "    <tr>\n",
       "      <th>19</th>\n",
       "      <td>0.763046</td>\n",
       "      <td>0.800289</td>\n",
       "      <td>0.115292</td>\n",
       "    </tr>\n",
       "  </tbody>\n",
       "</table>\n",
       "</div>"
      ],
      "text/plain": [
       "           X         Y         Z\n",
       "0   0.340670  0.356501  0.411287\n",
       "1   0.945289  0.171057  0.859539\n",
       "2   0.122245  0.003360  0.212961\n",
       "3   0.823944  0.063869  0.066553\n",
       "4   0.690609  0.504922  0.664961\n",
       "5   0.719370  0.782287  0.028721\n",
       "6   0.692457  0.707024  0.660826\n",
       "7   0.189126  0.185575  0.292572\n",
       "8   0.280946  0.810583  0.219381\n",
       "9   0.710309  0.128307  0.076197\n",
       "10  0.260071  0.630597  0.689316\n",
       "11  0.861492  0.280513  0.064395\n",
       "12  0.549581  0.473886  0.675770\n",
       "13  0.792653  0.571934  0.131720\n",
       "14  0.238689  0.106346  0.077366\n",
       "15  0.809836  0.121792  0.526592\n",
       "16  0.073610  0.641057  0.614865\n",
       "17  0.138991  0.781385  0.250436\n",
       "18  0.680276  0.509734  0.464679\n",
       "19  0.763046  0.800289  0.115292"
      ]
     },
     "execution_count": 15,
     "metadata": {},
     "output_type": "execute_result"
    }
   ],
   "source": [
    "df2"
   ]
  },
  {
   "cell_type": "markdown",
   "metadata": {},
   "source": [
    "Let's start with simple histogram plot, we can get the hist plot in two ways!\n",
    "* `DataFrame.hist()`\n",
    "* `DataFrame.plot(kind = 'hist')`\n",
    "\n",
    "Let's try both one-by-one first, later on, we will talk about style sheet and discuss the range of plotting options in details!"
   ]
  },
  {
   "cell_type": "code",
   "execution_count": 26,
   "metadata": {
    "scrolled": true
   },
   "outputs": [
    {
     "data": {
      "text/plain": [
       "<Axes: >"
      ]
     },
     "execution_count": 26,
     "metadata": {},
     "output_type": "execute_result"
    },
    {
     "data": {
      "image/png": "[encoded data removed]",
      "text/plain": [
       "<Figure size 640x480 with 1 Axes>"
      ]
     },
     "metadata": {},
     "output_type": "display_data"
    }
   ],
   "source": [
    "df1['A'].hist(bins=30)\n",
    "# Note that it is using matplotlib under the hood"
   ]
  },
  {
   "cell_type": "code",
   "execution_count": 27,
   "metadata": {
    "scrolled": true
   },
   "outputs": [
    {
     "data": {
      "text/plain": [
       "<Axes: ylabel='Frequency'>"
      ]
     },
     "execution_count": 27,
     "metadata": {},
     "output_type": "execute_result"
    },
    {
     "data": {
      "image/png": "[encoded data removed]",
      "text/plain": [
       "<Figure size 640x480 with 1 Axes>"
      ]
     },
     "metadata": {},
     "output_type": "display_data"
    }
   ],
   "source": [
    "# we can also plot using kind\n",
    "df1['A'].plot(kind='hist',bins=30)\n",
    "# For whole dataset\n",
    "#df1.plot(kind='hist',bins=30)"
   ]
  },
  {
   "cell_type": "markdown",
   "metadata": {},
   "source": [
    "## Style Sheets\n",
    "\n",
    "Matplotlib has [style sheets](http://matplotlib.org/gallery.html#style_sheets). We can use this to make our plots look a little nicer. These style sheets include `plot_bmh`,`plot_fivethirtyeight`,`plot_ggplot` and more. They basically create a set of style rules that our plots follow. Its good to use them because they make all our plots to have the same look and feel more professional. <br>\n",
    "Let's call the style first!"
   ]
  },
  {
   "cell_type": "code",
   "execution_count": 29,
   "metadata": {},
   "outputs": [],
   "source": [
    "import matplotlib.pyplot as plt"
   ]
  },
  {
   "cell_type": "code",
   "execution_count": 30,
   "metadata": {},
   "outputs": [
    {
     "data": {
      "text/plain": [
       "<Axes: >"
      ]
     },
     "execution_count": 30,
     "metadata": {},
     "output_type": "execute_result"
    },
    {
     "data": {
      "image/png": "[encoded data removed]",
      "text/plain": [
       "<Figure size 640x480 with 1 Axes>"
      ]
     },
     "metadata": {},
     "output_type": "display_data"
    }
   ],
   "source": [
    "plt.style.use('ggplot')\n",
    "df1['A'].hist(bins=30)"
   ]
  },
  {
   "cell_type": "code",
   "execution_count": 31,
   "metadata": {},
   "outputs": [
    {
     "data": {
      "text/plain": [
       "<Axes: >"
      ]
     },
     "execution_count": 31,
     "metadata": {},
     "output_type": "execute_result"
    },
    {
     "data": {
      "image/png": "[encoded data removed]",
      "text/plain": [
       "<Figure size 640x480 with 1 Axes>"
      ]
     },
     "metadata": {},
     "output_type": "display_data"
    }
   ],
   "source": [
    "# Lets use another style \"bhm\"\n",
    "plt.style.use('bmh')\n",
    "df1['A'].hist(bins=30)"
   ]
  },
  {
   "cell_type": "code",
   "execution_count": 32,
   "metadata": {},
   "outputs": [
    {
     "data": {
      "text/plain": [
       "<Axes: >"
      ]
     },
     "execution_count": 32,
     "metadata": {},
     "output_type": "execute_result"
    },
    {
     "data": {
      "image/png": "[encoded data removed]",
      "text/plain": [
       "<Figure size 640x480 with 1 Axes>"
      ]
     },
     "metadata": {},
     "output_type": "display_data"
    }
   ],
   "source": [
    "# we can use dark_background \n",
    "plt.style.use('dark_background')\n",
    "df1['A'].hist(bins=30)"
   ]
  },
  {
   "cell_type": "code",
   "execution_count": 33,
   "metadata": {},
   "outputs": [
    {
     "data": {
      "text/plain": [
       "<Axes: >"
      ]
     },
     "execution_count": 33,
     "metadata": {},
     "output_type": "execute_result"
    },
    {
     "data": {
      "image/png": "[encoded data removed]",
      "text/plain": [
       "<Figure size 640x480 with 1 Axes>"
      ]
     },
     "metadata": {},
     "output_type": "display_data"
    }
   ],
   "source": [
    "# another example\n",
    "plt.style.use('fivethirtyeight')\n",
    "df1['A'].hist(bins=30)"
   ]
  },
  {
   "cell_type": "code",
   "execution_count": 34,
   "metadata": {},
   "outputs": [
    {
     "data": {
      "text/plain": [
       "<Axes: >"
      ]
     },
     "execution_count": 34,
     "metadata": {},
     "output_type": "execute_result"
    },
    {
     "data": {
      "image/png": "[encoded data removed]",
      "text/plain": [
       "<Figure size 640x480 with 1 Axes>"
      ]
     },
     "metadata": {},
     "output_type": "display_data"
    }
   ],
   "source": [
    "df2['X'].hist(bins=30)"
   ]
  },
  {
   "cell_type": "markdown",
   "metadata": {},
   "source": [
    "# Plot Types\n",
    "\n",
    "There are several plot types built-in to pandas, most of them are statistical plots by nature:\n",
    "\n",
    "* `df.plot.area`   \n",
    "* `df.plot.bar`\n",
    "* `df.plot.barh`     \n",
    "* `df.plot.hist`     \n",
    "* `df.plot.line`     \n",
    "* `df.plot.scatter`\n",
    "* `df.plot.box`         \n",
    "* `df.plot.pie`\n",
    "\n",
    "We can also just call `df.plot(kind='hist')` or replace that kind argument with any of the key terms shown in the list above (e.g. `'box','barh'`, etc..)<br>\n",
    "**Let's go through these plots one-by-one using our data frames `df1` and `df2`!**"
   ]
  },
  {
   "cell_type": "markdown",
   "metadata": {},
   "source": [
    "### Area plot"
   ]
  },
  {
   "cell_type": "code",
   "execution_count": 35,
   "metadata": {},
   "outputs": [
    {
     "data": {
      "text/html": [
       "<div>\n",
       "<style scoped>\n",
       "    .dataframe tbody tr th:only-of-type {\n",
       "        vertical-align: middle;\n",
       "    }\n",
       "\n",
       "    .dataframe tbody tr th {\n",
       "        vertical-align: top;\n",
       "    }\n",
       "\n",
       "    .dataframe thead th {\n",
       "        text-align: right;\n",
       "    }\n",
       "</style>\n",
       "<table border=\"1\" class=\"dataframe\">\n",
       "  <thead>\n",
       "    <tr style=\"text-align: right;\">\n",
       "      <th></th>\n",
       "      <th>X</th>\n",
       "      <th>Y</th>\n",
       "      <th>Z</th>\n",
       "    </tr>\n",
       "  </thead>\n",
       "  <tbody>\n",
       "    <tr>\n",
       "      <th>0</th>\n",
       "      <td>0.340670</td>\n",
       "      <td>0.356501</td>\n",
       "      <td>0.411287</td>\n",
       "    </tr>\n",
       "    <tr>\n",
       "      <th>1</th>\n",
       "      <td>0.945289</td>\n",
       "      <td>0.171057</td>\n",
       "      <td>0.859539</td>\n",
       "    </tr>\n",
       "    <tr>\n",
       "      <th>2</th>\n",
       "      <td>0.122245</td>\n",
       "      <td>0.003360</td>\n",
       "      <td>0.212961</td>\n",
       "    </tr>\n",
       "    <tr>\n",
       "      <th>3</th>\n",
       "      <td>0.823944</td>\n",
       "      <td>0.063869</td>\n",
       "      <td>0.066553</td>\n",
       "    </tr>\n",
       "    <tr>\n",
       "      <th>4</th>\n",
       "      <td>0.690609</td>\n",
       "      <td>0.504922</td>\n",
       "      <td>0.664961</td>\n",
       "    </tr>\n",
       "    <tr>\n",
       "      <th>5</th>\n",
       "      <td>0.719370</td>\n",
       "      <td>0.782287</td>\n",
       "      <td>0.028721</td>\n",
       "    </tr>\n",
       "    <tr>\n",
       "      <th>6</th>\n",
       "      <td>0.692457</td>\n",
       "      <td>0.707024</td>\n",
       "      <td>0.660826</td>\n",
       "    </tr>\n",
       "    <tr>\n",
       "      <th>7</th>\n",
       "      <td>0.189126</td>\n",
       "      <td>0.185575</td>\n",
       "      <td>0.292572</td>\n",
       "    </tr>\n",
       "    <tr>\n",
       "      <th>8</th>\n",
       "      <td>0.280946</td>\n",
       "      <td>0.810583</td>\n",
       "      <td>0.219381</td>\n",
       "    </tr>\n",
       "    <tr>\n",
       "      <th>9</th>\n",
       "      <td>0.710309</td>\n",
       "      <td>0.128307</td>\n",
       "      <td>0.076197</td>\n",
       "    </tr>\n",
       "    <tr>\n",
       "      <th>10</th>\n",
       "      <td>0.260071</td>\n",
       "      <td>0.630597</td>\n",
       "      <td>0.689316</td>\n",
       "    </tr>\n",
       "    <tr>\n",
       "      <th>11</th>\n",
       "      <td>0.861492</td>\n",
       "      <td>0.280513</td>\n",
       "      <td>0.064395</td>\n",
       "    </tr>\n",
       "    <tr>\n",
       "      <th>12</th>\n",
       "      <td>0.549581</td>\n",
       "      <td>0.473886</td>\n",
       "      <td>0.675770</td>\n",
       "    </tr>\n",
       "    <tr>\n",
       "      <th>13</th>\n",
       "      <td>0.792653</td>\n",
       "      <td>0.571934</td>\n",
       "      <td>0.131720</td>\n",
       "    </tr>\n",
       "    <tr>\n",
       "      <th>14</th>\n",
       "      <td>0.238689</td>\n",
       "      <td>0.106346</td>\n",
       "      <td>0.077366</td>\n",
       "    </tr>\n",
       "    <tr>\n",
       "      <th>15</th>\n",
       "      <td>0.809836</td>\n",
       "      <td>0.121792</td>\n",
       "      <td>0.526592</td>\n",
       "    </tr>\n",
       "    <tr>\n",
       "      <th>16</th>\n",
       "      <td>0.073610</td>\n",
       "      <td>0.641057</td>\n",
       "      <td>0.614865</td>\n",
       "    </tr>\n",
       "    <tr>\n",
       "      <th>17</th>\n",
       "      <td>0.138991</td>\n",
       "      <td>0.781385</td>\n",
       "      <td>0.250436</td>\n",
       "    </tr>\n",
       "    <tr>\n",
       "      <th>18</th>\n",
       "      <td>0.680276</td>\n",
       "      <td>0.509734</td>\n",
       "      <td>0.464679</td>\n",
       "    </tr>\n",
       "    <tr>\n",
       "      <th>19</th>\n",
       "      <td>0.763046</td>\n",
       "      <td>0.800289</td>\n",
       "      <td>0.115292</td>\n",
       "    </tr>\n",
       "  </tbody>\n",
       "</table>\n",
       "</div>"
      ],
      "text/plain": [
       "           X         Y         Z\n",
       "0   0.340670  0.356501  0.411287\n",
       "1   0.945289  0.171057  0.859539\n",
       "2   0.122245  0.003360  0.212961\n",
       "3   0.823944  0.063869  0.066553\n",
       "4   0.690609  0.504922  0.664961\n",
       "5   0.719370  0.782287  0.028721\n",
       "6   0.692457  0.707024  0.660826\n",
       "7   0.189126  0.185575  0.292572\n",
       "8   0.280946  0.810583  0.219381\n",
       "9   0.710309  0.128307  0.076197\n",
       "10  0.260071  0.630597  0.689316\n",
       "11  0.861492  0.280513  0.064395\n",
       "12  0.549581  0.473886  0.675770\n",
       "13  0.792653  0.571934  0.131720\n",
       "14  0.238689  0.106346  0.077366\n",
       "15  0.809836  0.121792  0.526592\n",
       "16  0.073610  0.641057  0.614865\n",
       "17  0.138991  0.781385  0.250436\n",
       "18  0.680276  0.509734  0.464679\n",
       "19  0.763046  0.800289  0.115292"
      ]
     },
     "execution_count": 35,
     "metadata": {},
     "output_type": "execute_result"
    }
   ],
   "source": [
    "df2"
   ]
  },
  {
   "cell_type": "code",
   "execution_count": 36,
   "metadata": {
    "scrolled": true
   },
   "outputs": [
    {
     "data": {
      "text/plain": [
       "<Axes: >"
      ]
     },
     "execution_count": 36,
     "metadata": {},
     "output_type": "execute_result"
    },
    {
     "data": {
      "image/png": "[encoded data removed]",
      "text/plain": [
       "<Figure size 640x480 with 1 Axes>"
      ]
     },
     "metadata": {},
     "output_type": "display_data"
    }
   ],
   "source": [
    "plt.style.use('dark_background')\n",
    "df2.plot()\n",
    "#df2.plot(kind = 'area', alpha=0.5)"
   ]
  },
  {
   "cell_type": "code",
   "execution_count": 37,
   "metadata": {},
   "outputs": [
    {
     "data": {
      "text/plain": [
       "<Axes: >"
      ]
     },
     "execution_count": 37,
     "metadata": {},
     "output_type": "execute_result"
    },
    {
     "data": {
      "image/png": "[encoded data removed]",
      "text/plain": [
       "<Figure size 640x480 with 1 Axes>"
      ]
     },
     "metadata": {},
     "output_type": "display_data"
    }
   ],
   "source": [
    "df2.plot.area()"
   ]
  },
  {
   "cell_type": "markdown",
   "metadata": {},
   "source": [
    "### Bar plots"
   ]
  },
  {
   "cell_type": "code",
   "execution_count": 38,
   "metadata": {},
   "outputs": [],
   "source": [
    "plt.style.use('dark_background')"
   ]
  },
  {
   "cell_type": "code",
   "execution_count": 39,
   "metadata": {},
   "outputs": [
    {
     "data": {
      "text/html": [
       "<div>\n",
       "<style scoped>\n",
       "    .dataframe tbody tr th:only-of-type {\n",
       "        vertical-align: middle;\n",
       "    }\n",
       "\n",
       "    .dataframe tbody tr th {\n",
       "        vertical-align: top;\n",
       "    }\n",
       "\n",
       "    .dataframe thead th {\n",
       "        text-align: right;\n",
       "    }\n",
       "</style>\n",
       "<table border=\"1\" class=\"dataframe\">\n",
       "  <thead>\n",
       "    <tr style=\"text-align: right;\">\n",
       "      <th></th>\n",
       "      <th>X</th>\n",
       "      <th>Y</th>\n",
       "      <th>Z</th>\n",
       "    </tr>\n",
       "  </thead>\n",
       "  <tbody>\n",
       "    <tr>\n",
       "      <th>0</th>\n",
       "      <td>0.340670</td>\n",
       "      <td>0.356501</td>\n",
       "      <td>0.411287</td>\n",
       "    </tr>\n",
       "    <tr>\n",
       "      <th>1</th>\n",
       "      <td>0.945289</td>\n",
       "      <td>0.171057</td>\n",
       "      <td>0.859539</td>\n",
       "    </tr>\n",
       "    <tr>\n",
       "      <th>2</th>\n",
       "      <td>0.122245</td>\n",
       "      <td>0.003360</td>\n",
       "      <td>0.212961</td>\n",
       "    </tr>\n",
       "    <tr>\n",
       "      <th>3</th>\n",
       "      <td>0.823944</td>\n",
       "      <td>0.063869</td>\n",
       "      <td>0.066553</td>\n",
       "    </tr>\n",
       "    <tr>\n",
       "      <th>4</th>\n",
       "      <td>0.690609</td>\n",
       "      <td>0.504922</td>\n",
       "      <td>0.664961</td>\n",
       "    </tr>\n",
       "    <tr>\n",
       "      <th>5</th>\n",
       "      <td>0.719370</td>\n",
       "      <td>0.782287</td>\n",
       "      <td>0.028721</td>\n",
       "    </tr>\n",
       "    <tr>\n",
       "      <th>6</th>\n",
       "      <td>0.692457</td>\n",
       "      <td>0.707024</td>\n",
       "      <td>0.660826</td>\n",
       "    </tr>\n",
       "    <tr>\n",
       "      <th>7</th>\n",
       "      <td>0.189126</td>\n",
       "      <td>0.185575</td>\n",
       "      <td>0.292572</td>\n",
       "    </tr>\n",
       "    <tr>\n",
       "      <th>8</th>\n",
       "      <td>0.280946</td>\n",
       "      <td>0.810583</td>\n",
       "      <td>0.219381</td>\n",
       "    </tr>\n",
       "    <tr>\n",
       "      <th>9</th>\n",
       "      <td>0.710309</td>\n",
       "      <td>0.128307</td>\n",
       "      <td>0.076197</td>\n",
       "    </tr>\n",
       "    <tr>\n",
       "      <th>10</th>\n",
       "      <td>0.260071</td>\n",
       "      <td>0.630597</td>\n",
       "      <td>0.689316</td>\n",
       "    </tr>\n",
       "    <tr>\n",
       "      <th>11</th>\n",
       "      <td>0.861492</td>\n",
       "      <td>0.280513</td>\n",
       "      <td>0.064395</td>\n",
       "    </tr>\n",
       "    <tr>\n",
       "      <th>12</th>\n",
       "      <td>0.549581</td>\n",
       "      <td>0.473886</td>\n",
       "      <td>0.675770</td>\n",
       "    </tr>\n",
       "    <tr>\n",
       "      <th>13</th>\n",
       "      <td>0.792653</td>\n",
       "      <td>0.571934</td>\n",
       "      <td>0.131720</td>\n",
       "    </tr>\n",
       "    <tr>\n",
       "      <th>14</th>\n",
       "      <td>0.238689</td>\n",
       "      <td>0.106346</td>\n",
       "      <td>0.077366</td>\n",
       "    </tr>\n",
       "    <tr>\n",
       "      <th>15</th>\n",
       "      <td>0.809836</td>\n",
       "      <td>0.121792</td>\n",
       "      <td>0.526592</td>\n",
       "    </tr>\n",
       "    <tr>\n",
       "      <th>16</th>\n",
       "      <td>0.073610</td>\n",
       "      <td>0.641057</td>\n",
       "      <td>0.614865</td>\n",
       "    </tr>\n",
       "    <tr>\n",
       "      <th>17</th>\n",
       "      <td>0.138991</td>\n",
       "      <td>0.781385</td>\n",
       "      <td>0.250436</td>\n",
       "    </tr>\n",
       "    <tr>\n",
       "      <th>18</th>\n",
       "      <td>0.680276</td>\n",
       "      <td>0.509734</td>\n",
       "      <td>0.464679</td>\n",
       "    </tr>\n",
       "    <tr>\n",
       "      <th>19</th>\n",
       "      <td>0.763046</td>\n",
       "      <td>0.800289</td>\n",
       "      <td>0.115292</td>\n",
       "    </tr>\n",
       "  </tbody>\n",
       "</table>\n",
       "</div>"
      ],
      "text/plain": [
       "           X         Y         Z\n",
       "0   0.340670  0.356501  0.411287\n",
       "1   0.945289  0.171057  0.859539\n",
       "2   0.122245  0.003360  0.212961\n",
       "3   0.823944  0.063869  0.066553\n",
       "4   0.690609  0.504922  0.664961\n",
       "5   0.719370  0.782287  0.028721\n",
       "6   0.692457  0.707024  0.660826\n",
       "7   0.189126  0.185575  0.292572\n",
       "8   0.280946  0.810583  0.219381\n",
       "9   0.710309  0.128307  0.076197\n",
       "10  0.260071  0.630597  0.689316\n",
       "11  0.861492  0.280513  0.064395\n",
       "12  0.549581  0.473886  0.675770\n",
       "13  0.792653  0.571934  0.131720\n",
       "14  0.238689  0.106346  0.077366\n",
       "15  0.809836  0.121792  0.526592\n",
       "16  0.073610  0.641057  0.614865\n",
       "17  0.138991  0.781385  0.250436\n",
       "18  0.680276  0.509734  0.464679\n",
       "19  0.763046  0.800289  0.115292"
      ]
     },
     "execution_count": 39,
     "metadata": {},
     "output_type": "execute_result"
    }
   ],
   "source": [
    "df2"
   ]
  },
  {
   "cell_type": "code",
   "execution_count": 40,
   "metadata": {},
   "outputs": [
    {
     "data": {
      "text/plain": [
       "<Axes: >"
      ]
     },
     "execution_count": 40,
     "metadata": {},
     "output_type": "execute_result"
    },
    {
     "data": {
      "image/png": "[encoded data removed]",
      "text/plain": [
       "<Figure size 1000x500 with 1 Axes>"
      ]
     },
     "metadata": {},
     "output_type": "display_data"
    }
   ],
   "source": [
    "df2.plot.bar(figsize=(10,5))"
   ]
  },
  {
   "cell_type": "code",
   "execution_count": 41,
   "metadata": {},
   "outputs": [
    {
     "data": {
      "text/plain": [
       "<Axes: >"
      ]
     },
     "execution_count": 41,
     "metadata": {},
     "output_type": "execute_result"
    },
    {
     "data": {
      "image/png": "[encoded data removed]",
      "text/plain": [
       "<Figure size 640x480 with 1 Axes>"
      ]
     },
     "metadata": {},
     "output_type": "display_data"
    }
   ],
   "source": [
    "# Horizontal bars\n",
    "df2.plot.barh()"
   ]
  },
  {
   "cell_type": "code",
   "execution_count": 42,
   "metadata": {},
   "outputs": [
    {
     "data": {
      "text/html": [
       "<div>\n",
       "<style scoped>\n",
       "    .dataframe tbody tr th:only-of-type {\n",
       "        vertical-align: middle;\n",
       "    }\n",
       "\n",
       "    .dataframe tbody tr th {\n",
       "        vertical-align: top;\n",
       "    }\n",
       "\n",
       "    .dataframe thead th {\n",
       "        text-align: right;\n",
       "    }\n",
       "</style>\n",
       "<table border=\"1\" class=\"dataframe\">\n",
       "  <thead>\n",
       "    <tr style=\"text-align: right;\">\n",
       "      <th></th>\n",
       "      <th>X</th>\n",
       "      <th>Y</th>\n",
       "      <th>Z</th>\n",
       "    </tr>\n",
       "  </thead>\n",
       "  <tbody>\n",
       "    <tr>\n",
       "      <th>0</th>\n",
       "      <td>0.340670</td>\n",
       "      <td>0.356501</td>\n",
       "      <td>0.411287</td>\n",
       "    </tr>\n",
       "    <tr>\n",
       "      <th>1</th>\n",
       "      <td>0.945289</td>\n",
       "      <td>0.171057</td>\n",
       "      <td>0.859539</td>\n",
       "    </tr>\n",
       "    <tr>\n",
       "      <th>2</th>\n",
       "      <td>0.122245</td>\n",
       "      <td>0.003360</td>\n",
       "      <td>0.212961</td>\n",
       "    </tr>\n",
       "    <tr>\n",
       "      <th>3</th>\n",
       "      <td>0.823944</td>\n",
       "      <td>0.063869</td>\n",
       "      <td>0.066553</td>\n",
       "    </tr>\n",
       "    <tr>\n",
       "      <th>4</th>\n",
       "      <td>0.690609</td>\n",
       "      <td>0.504922</td>\n",
       "      <td>0.664961</td>\n",
       "    </tr>\n",
       "    <tr>\n",
       "      <th>5</th>\n",
       "      <td>0.719370</td>\n",
       "      <td>0.782287</td>\n",
       "      <td>0.028721</td>\n",
       "    </tr>\n",
       "    <tr>\n",
       "      <th>6</th>\n",
       "      <td>0.692457</td>\n",
       "      <td>0.707024</td>\n",
       "      <td>0.660826</td>\n",
       "    </tr>\n",
       "    <tr>\n",
       "      <th>7</th>\n",
       "      <td>0.189126</td>\n",
       "      <td>0.185575</td>\n",
       "      <td>0.292572</td>\n",
       "    </tr>\n",
       "    <tr>\n",
       "      <th>8</th>\n",
       "      <td>0.280946</td>\n",
       "      <td>0.810583</td>\n",
       "      <td>0.219381</td>\n",
       "    </tr>\n",
       "    <tr>\n",
       "      <th>9</th>\n",
       "      <td>0.710309</td>\n",
       "      <td>0.128307</td>\n",
       "      <td>0.076197</td>\n",
       "    </tr>\n",
       "    <tr>\n",
       "      <th>10</th>\n",
       "      <td>0.260071</td>\n",
       "      <td>0.630597</td>\n",
       "      <td>0.689316</td>\n",
       "    </tr>\n",
       "    <tr>\n",
       "      <th>11</th>\n",
       "      <td>0.861492</td>\n",
       "      <td>0.280513</td>\n",
       "      <td>0.064395</td>\n",
       "    </tr>\n",
       "    <tr>\n",
       "      <th>12</th>\n",
       "      <td>0.549581</td>\n",
       "      <td>0.473886</td>\n",
       "      <td>0.675770</td>\n",
       "    </tr>\n",
       "    <tr>\n",
       "      <th>13</th>\n",
       "      <td>0.792653</td>\n",
       "      <td>0.571934</td>\n",
       "      <td>0.131720</td>\n",
       "    </tr>\n",
       "    <tr>\n",
       "      <th>14</th>\n",
       "      <td>0.238689</td>\n",
       "      <td>0.106346</td>\n",
       "      <td>0.077366</td>\n",
       "    </tr>\n",
       "    <tr>\n",
       "      <th>15</th>\n",
       "      <td>0.809836</td>\n",
       "      <td>0.121792</td>\n",
       "      <td>0.526592</td>\n",
       "    </tr>\n",
       "    <tr>\n",
       "      <th>16</th>\n",
       "      <td>0.073610</td>\n",
       "      <td>0.641057</td>\n",
       "      <td>0.614865</td>\n",
       "    </tr>\n",
       "    <tr>\n",
       "      <th>17</th>\n",
       "      <td>0.138991</td>\n",
       "      <td>0.781385</td>\n",
       "      <td>0.250436</td>\n",
       "    </tr>\n",
       "    <tr>\n",
       "      <th>18</th>\n",
       "      <td>0.680276</td>\n",
       "      <td>0.509734</td>\n",
       "      <td>0.464679</td>\n",
       "    </tr>\n",
       "    <tr>\n",
       "      <th>19</th>\n",
       "      <td>0.763046</td>\n",
       "      <td>0.800289</td>\n",
       "      <td>0.115292</td>\n",
       "    </tr>\n",
       "  </tbody>\n",
       "</table>\n",
       "</div>"
      ],
      "text/plain": [
       "           X         Y         Z\n",
       "0   0.340670  0.356501  0.411287\n",
       "1   0.945289  0.171057  0.859539\n",
       "2   0.122245  0.003360  0.212961\n",
       "3   0.823944  0.063869  0.066553\n",
       "4   0.690609  0.504922  0.664961\n",
       "5   0.719370  0.782287  0.028721\n",
       "6   0.692457  0.707024  0.660826\n",
       "7   0.189126  0.185575  0.292572\n",
       "8   0.280946  0.810583  0.219381\n",
       "9   0.710309  0.128307  0.076197\n",
       "10  0.260071  0.630597  0.689316\n",
       "11  0.861492  0.280513  0.064395\n",
       "12  0.549581  0.473886  0.675770\n",
       "13  0.792653  0.571934  0.131720\n",
       "14  0.238689  0.106346  0.077366\n",
       "15  0.809836  0.121792  0.526592\n",
       "16  0.073610  0.641057  0.614865\n",
       "17  0.138991  0.781385  0.250436\n",
       "18  0.680276  0.509734  0.464679\n",
       "19  0.763046  0.800289  0.115292"
      ]
     },
     "execution_count": 42,
     "metadata": {},
     "output_type": "execute_result"
    }
   ],
   "source": [
    "df2"
   ]
  },
  {
   "cell_type": "code",
   "execution_count": 43,
   "metadata": {},
   "outputs": [
    {
     "data": {
      "text/plain": [
       "<Axes: >"
      ]
     },
     "execution_count": 43,
     "metadata": {},
     "output_type": "execute_result"
    },
    {
     "data": {
      "image/png": "[encoded data removed]",
      "text/plain": [
       "<Figure size 640x480 with 1 Axes>"
      ]
     },
     "metadata": {},
     "output_type": "display_data"
    }
   ],
   "source": [
    "# we can stack them on top of each other \n",
    "plt.style.use('dark_background')\n",
    "df2.plot.bar(stacked=True)"
   ]
  },
  {
   "cell_type": "markdown",
   "metadata": {},
   "source": [
    "### Histogram"
   ]
  },
  {
   "cell_type": "markdown",
   "metadata": {},
   "source": [
    "A histogram can be stacked using `stacked=True`. This is not what we use often but it is good to know!"
   ]
  },
  {
   "cell_type": "code",
   "execution_count": null,
   "metadata": {},
   "outputs": [],
   "source": [
    "df1.plot.hist(stacked = True)"
   ]
  },
  {
   "cell_type": "markdown",
   "metadata": {},
   "source": [
    "We can pass other keywords supported by `matplotlib hist`. For example, `horizontal` and `cumulative` histograms can be drawn by `orientation='horizontal`' and `cumulative=True`.<br>\n",
    "Let's pass `orientation='horizontal`."
   ]
  },
  {
   "cell_type": "code",
   "execution_count": null,
   "metadata": {},
   "outputs": [],
   "source": [
    "df1.plot.hist(orientation='horizontal',alpha = 0.5)"
   ]
  },
  {
   "cell_type": "markdown",
   "metadata": {},
   "source": [
    "### Line plots"
   ]
  },
  {
   "cell_type": "code",
   "execution_count": null,
   "metadata": {},
   "outputs": [],
   "source": [
    "gas = pd.read_csv('gas_prices.csv')\n",
    "gas"
   ]
  },
  {
   "cell_type": "code",
   "execution_count": null,
   "metadata": {},
   "outputs": [],
   "source": [
    "gas['USA'].plot()"
   ]
  },
  {
   "cell_type": "code",
   "execution_count": null,
   "metadata": {},
   "outputs": [],
   "source": [
    "df_price = gas[['USA', 'Canada', 'South Korea', 'Australia']]\n",
    "df_price.plot()"
   ]
  },
  {
   "cell_type": "code",
   "execution_count": null,
   "metadata": {},
   "outputs": [],
   "source": [
    "df1"
   ]
  },
  {
   "cell_type": "code",
   "execution_count": null,
   "metadata": {},
   "outputs": [],
   "source": [
    "df1.plot.scatter(x='A', y='B',figsize=(12,3))"
   ]
  },
  {
   "cell_type": "code",
   "execution_count": null,
   "metadata": {
    "scrolled": true
   },
   "outputs": [],
   "source": [
    "df1.plot.line(x='A', y='B',figsize=(12,3),lw=2)"
   ]
  },
  {
   "cell_type": "markdown",
   "metadata": {},
   "source": [
    "If the index consists of dates, it try to format the x-axis nicely as per above. <br>\n",
    "calls matplotlib's  [`gcf().autofmt_xdate()`](https://matplotlib.org/api/_as_gen/matplotlib.figure.Figure.html#matplotlib.figure.Figure.autofmt_xdate) for this purpose!"
   ]
  },
  {
   "cell_type": "markdown",
   "metadata": {},
   "source": [
    "### Scatter plots\n",
    "Scatter plot can be drawn by using the `DataFrame.plot.scatter()` method. Scatter plot requires numeric columns for the x and y axes. These can be specified by the x and y keywords.<br>\n",
    "Let's try a scatter plot with df1 here!"
   ]
  },
  {
   "cell_type": "code",
   "execution_count": null,
   "metadata": {},
   "outputs": [],
   "source": [
    "df1.plot.scatter(x='A',y='B', figsize=(12,3))"
   ]
  },
  {
   "cell_type": "markdown",
   "metadata": {},
   "source": [
    "To plot multiple column groups in a single axes, we need to repeat `plot` method specifying target ax. It is recommended to specify color and label keywords to distinguish each groups."
   ]
  },
  {
   "cell_type": "code",
   "execution_count": null,
   "metadata": {},
   "outputs": [],
   "source": [
    "df1.plot.scatter(x='A', y='B', color='DarkBlue')"
   ]
  },
  {
   "cell_type": "markdown",
   "metadata": {},
   "source": [
    "The keyword `c` may be given as the name of a column to provide colors for each point. `cmap` can be used to indicate colormap. <br>\n",
    "For all the colormaps, [click here](http://matplotlib.org/users/colormaps.html)"
   ]
  },
  {
   "cell_type": "code",
   "execution_count": null,
   "metadata": {
    "scrolled": true
   },
   "outputs": [],
   "source": [
    "df1.plot.scatter(x='A',y='B', c='D', cmap='coolwarm', figsize=(12,3))"
   ]
  },
  {
   "cell_type": "code",
   "execution_count": null,
   "metadata": {},
   "outputs": [],
   "source": [
    "# We can use 's' to indicate size\n",
    "df1.plot.scatter(x='A',y='B', c='D', s=50, cmap='coolwarm', figsize=(12,3))"
   ]
  },
  {
   "cell_type": "markdown",
   "metadata": {},
   "source": [
    "We can use **`s`** to indicate size of the bubble based on another column. <br>\n",
    "**`s`** parameter needs to be an array, not just the name of a column:"
   ]
  },
  {
   "cell_type": "code",
   "execution_count": null,
   "metadata": {},
   "outputs": [],
   "source": [
    "df1.plot.hexbin(x='A',y='B', gridsize=25, cmap='Oranges', figsize=(12,3))"
   ]
  },
  {
   "cell_type": "code",
   "execution_count": null,
   "metadata": {},
   "outputs": [],
   "source": [
    "df1.plot.scatter(x='A',y='B', s=df1['D']*100, figsize=(12,3))\n",
    "# -ve value in sqrt could raise error"
   ]
  },
  {
   "cell_type": "markdown",
   "metadata": {},
   "source": [
    "## BoxPlots\n",
    "To visualize the distribution of values within each column."
   ]
  },
  {
   "cell_type": "code",
   "execution_count": null,
   "metadata": {},
   "outputs": [],
   "source": [
    "df2"
   ]
  },
  {
   "cell_type": "code",
   "execution_count": null,
   "metadata": {},
   "outputs": [],
   "source": [
    "df2['X'].max()"
   ]
  },
  {
   "cell_type": "code",
   "execution_count": null,
   "metadata": {},
   "outputs": [],
   "source": [
    "df2['X'].min()"
   ]
  },
  {
   "cell_type": "code",
   "execution_count": null,
   "metadata": {},
   "outputs": [],
   "source": [
    "df2['X'].plot.box() "
   ]
  },
  {
   "cell_type": "code",
   "execution_count": null,
   "metadata": {},
   "outputs": [],
   "source": [
    "df2.plot.box(vert=False)"
   ]
  },
  {
   "cell_type": "markdown",
   "metadata": {},
   "source": [
    "## Pie Plot\n",
    "We can create a pie plot with  `Series.plot.pie()` or `DataFrame.plot.pie()`. If your data includes any NaN, they will be automatically filled with 0. A ValueError will be raised if there are any negative values in your data.<br>\n",
    "Let's try pie plot with df2.<br>\n",
    "\n",
    "We need to specify a target column by the y argument. When y is specified, pie plot of selected column will be drawn."
   ]
  },
  {
   "cell_type": "code",
   "execution_count": null,
   "metadata": {},
   "outputs": [],
   "source": [
    "df2"
   ]
  },
  {
   "cell_type": "code",
   "execution_count": null,
   "metadata": {},
   "outputs": [],
   "source": [
    "# let's take use X column only\n",
    "df2.plot.pie(y='X', figsize=(12, 10))#,figsize=(12, 4),legend=False)"
   ]
  },
  {
   "cell_type": "markdown",
   "metadata": {},
   "source": [
    "The plot above does not look nice, lets remove the legend and set the figure size!"
   ]
  },
  {
   "cell_type": "code",
   "execution_count": null,
   "metadata": {},
   "outputs": [],
   "source": [
    "fifa = pd.read_csv('fifa_data.csv')\n",
    "fifa #select * from fifa"
   ]
  },
  {
   "cell_type": "code",
   "execution_count": null,
   "metadata": {},
   "outputs": [],
   "source": [
    "fifa['Weight']"
   ]
  },
  {
   "cell_type": "code",
   "execution_count": null,
   "metadata": {},
   "outputs": [],
   "source": [
    "def stripdata(x):\n",
    "    if type(x)==str:\n",
    "        return int(x.strip('lbs')) \n",
    "    else:\n",
    "        return x\n",
    "    \n",
    "fifa['Weight'] = fifa['Weight'].apply(stripdata)"
   ]
  },
  {
   "cell_type": "code",
   "execution_count": null,
   "metadata": {},
   "outputs": [],
   "source": [
    "fifa['Weight']"
   ]
  },
  {
   "cell_type": "code",
   "execution_count": null,
   "metadata": {},
   "outputs": [],
   "source": [
    "light = fifa[fifa.Weight < 125].count()[0]\n",
    "light"
   ]
  },
  {
   "cell_type": "code",
   "execution_count": null,
   "metadata": {},
   "outputs": [],
   "source": []
  },
  {
   "cell_type": "markdown",
   "metadata": {},
   "source": [
    "This was all about the data visualization using pandas. You can see that how convenient it is to use pandas data visualization capabilities while EDA. It balances ease of use with control over the figure. A lot of the plot calls also accept additional arguments of their parent matplotlib library call. <br>\n",
    "\n",
    "Let's move on to the exercises section now, where we will try to solve some tasks related to pandas data visualization. See you in the next lecture, Good Luck!\n",
    "\n",
    "# Great Job!"
   ]
  }
 ],
 "metadata": {
  "kernelspec": {
   "display_name": "Python 3 (ipykernel)",
   "language": "python",
   "name": "python3"
  },
  "language_info": {
   "codemirror_mode": {
    "name": "ipython",
    "version": 3
   },
   "file_extension": ".py",
   "mimetype": "text/x-python",
   "name": "python",
   "nbconvert_exporter": "python",
   "pygments_lexer": "ipython3",
   "version": "3.10.12"
  }
 },
 "nbformat": 4,
 "nbformat_minor": 4
}
