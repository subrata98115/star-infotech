{
 "cells": [
  {
   "cell_type": "markdown",
   "metadata": {},
   "source": [
    "# pandas Data Structures:\n",
    "We have learned about **Series**, lets learn DataFrames (2<sup>nd</sup> workhorse of pandas) to expand our concepts of Series.\n",
    "\n",
    "* DataFrame\n",
    "* Grab data (column wise)\n",
    "* Grab data (raw wise)\n",
    "* Grabbing an element or a sub-set of the dataframe\n",
    "* Adding new column\n",
    "* Deleting the column\n",
    "* boolean_mask\n",
    "* boolean_mask(Combine 2 conditions)\n",
    "* reset_index(), set_index(), head(), tail(), info(), describe()\n",
    "\n",
    "## DataFrame\n",
    "* A very simple way to think about the DataFrame is, \"bunch of Series together such as they share the same index\". <br> \n",
    "* A DataFrams is a rectangular table of data that contains an ordered collection of columns, each of which can be a different value type (numeric, string, boolean, etc). DataFrame has both a row and column index; it can be thought of as a dictionary of Series all sharing the same index. <br>\n",
    "\n",
    "&#9758; *A good read for those, who are interested! ([Python for Data Analysis](http://shop.oreilly.com/product/0636920023784.do))<br>*\n",
    "\n",
    "Let's learn **DataFrame with examples:**<br> "
   ]
  },
  {
   "cell_type": "code",
   "execution_count": 1,
   "metadata": {},
   "outputs": [],
   "source": [
    "import pandas as pd\n",
    "import numpy as np"
   ]
  },
  {
   "cell_type": "markdown",
   "metadata": {},
   "source": [
    "Let's create two labels/indexes:\n",
    "* for rows 'r1 to r10'\n",
    "* for columns 'c1 to c10'\n",
    "\n",
    "Let's start with a simple example, using **`arange()`** and **`reshape()`** together to create a 2D array (matrix).<br>"
   ]
  },
  {
   "cell_type": "markdown",
   "metadata": {},
   "source": [
    "&#9989; *Use **TAB** for auto-complete and **shift + TAB**  for doc.*"
   ]
  },
  {
   "cell_type": "code",
   "execution_count": 2,
   "metadata": {},
   "outputs": [],
   "source": [
    "i = ['r1', 'r2', 'r3','r4','r5',' r6',' r7',' r8',' r9',' r10'] \n",
    "c = 'c1 c2 c3 c4 c5 c6 c7 c8 c9 c10'.split()"
   ]
  },
  {
   "cell_type": "code",
   "execution_count": 3,
   "metadata": {},
   "outputs": [
    {
     "data": {
      "text/plain": [
       "['r1', 'r2', 'r3', 'r4', 'r5', ' r6', ' r7', ' r8', ' r9', ' r10']"
      ]
     },
     "execution_count": 3,
     "metadata": {},
     "output_type": "execute_result"
    }
   ],
   "source": [
    "# How the index, columns and array_2d look like!\n",
    "i"
   ]
  },
  {
   "cell_type": "code",
   "execution_count": 4,
   "metadata": {},
   "outputs": [
    {
     "data": {
      "text/plain": [
       "['c1', 'c2', 'c3', 'c4', 'c5', 'c6', 'c7', 'c8', 'c9', 'c10']"
      ]
     },
     "execution_count": 4,
     "metadata": {},
     "output_type": "execute_result"
    }
   ],
   "source": [
    "c"
   ]
  },
  {
   "cell_type": "code",
   "execution_count": 5,
   "metadata": {},
   "outputs": [],
   "source": [
    "array_2d = np.arange(0,100).reshape(10,10)"
   ]
  },
  {
   "cell_type": "code",
   "execution_count": 6,
   "metadata": {},
   "outputs": [
    {
     "data": {
      "text/plain": [
       "array([[ 0,  1,  2,  3,  4,  5,  6,  7,  8,  9],\n",
       "       [10, 11, 12, 13, 14, 15, 16, 17, 18, 19],\n",
       "       [20, 21, 22, 23, 24, 25, 26, 27, 28, 29],\n",
       "       [30, 31, 32, 33, 34, 35, 36, 37, 38, 39],\n",
       "       [40, 41, 42, 43, 44, 45, 46, 47, 48, 49],\n",
       "       [50, 51, 52, 53, 54, 55, 56, 57, 58, 59],\n",
       "       [60, 61, 62, 63, 64, 65, 66, 67, 68, 69],\n",
       "       [70, 71, 72, 73, 74, 75, 76, 77, 78, 79],\n",
       "       [80, 81, 82, 83, 84, 85, 86, 87, 88, 89],\n",
       "       [90, 91, 92, 93, 94, 95, 96, 97, 98, 99]])"
      ]
     },
     "execution_count": 6,
     "metadata": {},
     "output_type": "execute_result"
    }
   ],
   "source": [
    "array_2d"
   ]
  },
  {
   "cell_type": "code",
   "execution_count": 7,
   "metadata": {},
   "outputs": [],
   "source": [
    "# Let's create our first DataFrame using index, columns and array_2dnow \n",
    "df = pd.DataFrame(data = array_2d, index = i, columns = c)"
   ]
  },
  {
   "cell_type": "code",
   "execution_count": null,
   "metadata": {},
   "outputs": [],
   "source": [
    "# How the DataFrame look like!\n",
    "df  # select c1 from df"
   ]
  },
  {
   "cell_type": "markdown",
   "metadata": {},
   "source": [
    "**df** is our first dataframe. <br>\n",
    "We have columns, c1 to c10, and their corresponding rows, r1 to r10. <br>\n",
    "Each column is actually a pandas series, sharing a common index (row labels). <br>\n",
    "\n",
    "&#9758; Let's learn how to **Grab data** that we need, this is the most important thing we want to learn to move one!<br>\n",
    "\n",
    "### Columns "
   ]
  },
  {
   "cell_type": "code",
   "execution_count": null,
   "metadata": {},
   "outputs": [],
   "source": [
    "# Grabbing a single column \n",
    "df['c1'] # Select c1 from df\n",
    "#df.c1\n",
    "# The output looks like a series, right?.\n",
    "# Also returned Series have the same index as the DataFrame"
   ]
  },
  {
   "cell_type": "code",
   "execution_count": null,
   "metadata": {},
   "outputs": [],
   "source": [
    "type(df['c1']) # It is a pandas Series "
   ]
  },
  {
   "cell_type": "code",
   "execution_count": null,
   "metadata": {},
   "outputs": [],
   "source": [
    "# Grabbing more than one column, pass the list of columns you need! \n",
    "df[['c1', 'c10']] # select c1, c10 from df"
   ]
  },
  {
   "cell_type": "markdown",
   "metadata": {},
   "source": [
    "**df.column_name (e.g. df.c1, df.c2 etc)** can be used to grab a column as well, its good to know but I don't recommend. <br> \n",
    "If you press \"TAB\" after df., you will see lots of available methods, its good not to get confused with these option by using df.column_name.<br>\n",
    "**Let's try this once**"
   ]
  },
  {
   "cell_type": "code",
   "execution_count": null,
   "metadata": {},
   "outputs": [],
   "source": [
    "df.c5"
   ]
  },
  {
   "cell_type": "markdown",
   "metadata": {},
   "source": [
    "### Adding new column\n",
    "Lets try with \"+\" operation!"
   ]
  },
  {
   "cell_type": "code",
   "execution_count": null,
   "metadata": {},
   "outputs": [],
   "source": [
    "df['c11'] = df['c1'] + df['c2']\n",
    "df"
   ]
  },
  {
   "cell_type": "markdown",
   "metadata": {},
   "source": [
    "### Deleting the column -- `drop()`\n",
    "\n",
    "        *df.drop('new')-- ValueError: labels ['new'] not contained in axis\n",
    "\n",
    "Shift+tab, you see the default axis is 0, which refers to the index (row labels), for column, we need to specify axis = 1.<br>\n",
    "&#9758; rows refer to 0 axis and columns refers to 1 axis<br> \n",
    "&#9758; Quick Check: *df.shape gives tuple (rows, cols) at [0] and [1]*"
   ]
  },
  {
   "cell_type": "code",
   "execution_count": null,
   "metadata": {},
   "outputs": [],
   "source": [
    "# We can delete a column using drop()\n",
    "# df.drop('new')# ValueError: labels ['new'] not contained in axis\n",
    "df.drop('c11', axis=1)"
   ]
  },
  {
   "cell_type": "code",
   "execution_count": null,
   "metadata": {},
   "outputs": [],
   "source": [
    "df"
   ]
  },
  {
   "cell_type": "markdown",
   "metadata": {},
   "source": [
    "&#9758; Is the \"new\" really deleted? <br>\n",
    "Output df and you will see \"new\" is still there!<br>"
   ]
  },
  {
   "cell_type": "markdown",
   "metadata": {},
   "source": [
    "To delete the column, you have to tell the pandas by setting<br>\n",
    "* ***inplace = True*** (default is inplace=False).<br>\n",
    "\n",
    "&#9989; *pandas is generous, it does not want us to lose the information by any mistake and needs inplace*"
   ]
  },
  {
   "cell_type": "code",
   "execution_count": null,
   "metadata": {},
   "outputs": [],
   "source": [
    "df.drop('c11', axis = 1)\n"
   ]
  },
  {
   "cell_type": "code",
   "execution_count": null,
   "metadata": {},
   "outputs": [],
   "source": [
    "df"
   ]
  },
  {
   "cell_type": "markdown",
   "metadata": {},
   "source": [
    "### Rows\n",
    "We can retrieve a row by its name or position with **[`loc`](https://pandas.pydata.org/pandas-docs/stable/generated/pandas.DataFrame.loc.html)** and **[`iloc`](https://pandas.pydata.org/pandas-docs/stable/generated/pandas.DataFrame.iloc.html)**.<br>\n",
    "**loc** -- Access a group of rows and columns by label(s)"
   ]
  },
  {
   "cell_type": "code",
   "execution_count": null,
   "metadata": {},
   "outputs": [],
   "source": [
    "# df['r1'] # KeyError: 'r1'\n",
    "df.loc['r1'] # loc for location in square brackets\n",
    "# we see that the rows are series as well!"
   ]
  },
  {
   "cell_type": "markdown",
   "metadata": {},
   "source": [
    "Using row's index location with **iloc**, even if our index is labeled."
   ]
  },
  {
   "cell_type": "code",
   "execution_count": null,
   "metadata": {},
   "outputs": [],
   "source": [
    "df.iloc[4] # iloc[index], index based location"
   ]
  },
  {
   "cell_type": "code",
   "execution_count": null,
   "metadata": {},
   "outputs": [],
   "source": [
    "# more than one rows -- pass a list of rows!\n",
    "df.loc[['r1','r2','r3']]"
   ]
  },
  {
   "cell_type": "markdown",
   "metadata": {},
   "source": [
    "### Grabbing an element or a sub-set of the dataframe"
   ]
  },
  {
   "cell_type": "code",
   "execution_count": null,
   "metadata": {},
   "outputs": [],
   "source": [
    "df"
   ]
  },
  {
   "cell_type": "code",
   "execution_count": null,
   "metadata": {},
   "outputs": [],
   "source": [
    "# df.loc(req_row, re_col) -- pass row, col for the element!\n",
    "df.loc['r1','c1']"
   ]
  },
  {
   "cell_type": "code",
   "execution_count": null,
   "metadata": {},
   "outputs": [],
   "source": [
    "# for a sub-set, pass the list\n",
    "df.loc[['r1','r2'],['c1','c2']]"
   ]
  },
  {
   "cell_type": "code",
   "execution_count": null,
   "metadata": {},
   "outputs": [],
   "source": [
    "# another example - random columns and rows in the list \n",
    "df.loc[['r2','r5'],['c3','c4']]"
   ]
  },
  {
   "cell_type": "code",
   "execution_count": null,
   "metadata": {},
   "outputs": [],
   "source": [
    "# We can do a conditional selection as well\n",
    "df > 5\n",
    "# df!=0 \n",
    "# df=0"
   ]
  },
  {
   "cell_type": "markdown",
   "metadata": {},
   "source": [
    "This is similar to NumPy boolean mask, lets try this:\n",
    "\n",
    "    *bool_mask = df % 3 == 0\n",
    "    *df[bool_mask]\n",
    "returns values where it is True and NaN where False. "
   ]
  },
  {
   "cell_type": "code",
   "execution_count": null,
   "metadata": {},
   "outputs": [],
   "source": [
    "# Return Divisible by 3 \n",
    "bool_mask = df % 3 == 0\n",
    "#bool_mask\n",
    "df[bool_mask]\n",
    "# One step and easier to do \n",
    "# df[df % 3 == 0]"
   ]
  },
  {
   "cell_type": "markdown",
   "metadata": {},
   "source": [
    "&#9758; Its not common to use such operation on entire dataframe. We usually use them on a columns or rows instead.<br>\n",
    "**For example, we don't want a row with NaN values.**<br>\n",
    "What to do?<br>\n",
    "Let's have a look at one example."
   ]
  },
  {
   "cell_type": "code",
   "execution_count": null,
   "metadata": {},
   "outputs": [],
   "source": [
    "# Our original dataframe is \n",
    "df # select * from df where c1 > 11\n"
   ]
  },
  {
   "cell_type": "markdown",
   "metadata": {},
   "source": [
    "Let's apply a condition on column c1, say `c1 > 11`<br>\n",
    "based on the conditional selection, the out put will be:"
   ]
  },
  {
   "cell_type": "code",
   "execution_count": null,
   "metadata": {},
   "outputs": [],
   "source": [
    "df['c1'] > 11\n",
    "#df[df['c1']>11]"
   ]
  },
  {
   "cell_type": "markdown",
   "metadata": {},
   "source": [
    "We don't want `r1` and `r2` as they return NaN or null values. <br>\n",
    "Let's filter the rows based on condition on column values."
   ]
  },
  {
   "cell_type": "code",
   "execution_count": null,
   "metadata": {
    "scrolled": true
   },
   "outputs": [],
   "source": [
    "df[df['c1']>11] # df[boolean_mask]\n",
    "# We will use such operation frequently in our course."
   ]
  },
  {
   "cell_type": "markdown",
   "metadata": {},
   "source": [
    "&#9758; The above, **\"`df[df['c1']>11]`\"** is a dataframe with applied condition, we can select any col from this dataframe.<br> For example:"
   ]
  },
  {
   "cell_type": "code",
   "execution_count": null,
   "metadata": {},
   "outputs": [],
   "source": [
    "result = df[df['c1']>11]\n",
    "result['c1']"
   ]
  },
  {
   "cell_type": "markdown",
   "metadata": {},
   "source": [
    "We can do the above operations, (filtering and selecting a columns) in a single line (stack commonds). \n"
   ]
  },
  {
   "cell_type": "code",
   "execution_count": null,
   "metadata": {},
   "outputs": [],
   "source": [
    "df[df['c1']>11]['c1']\n",
    "# Could be little confusing for the beginners, but don't worry, we will \n",
    "# use such operations frequently in the course as well, you will find \n",
    "# them very handy. "
   ]
  },
  {
   "cell_type": "code",
   "execution_count": null,
   "metadata": {},
   "outputs": [],
   "source": [
    "boollist = [False, False, True, True, True, True, True, True, True, True]\n",
    "boollist\n",
    "bool_ser = pd.Series(data=boollist, index=index)\n",
    "bool_ser\n",
    "df[bool_ser]"
   ]
  },
  {
   "cell_type": "code",
   "execution_count": null,
   "metadata": {},
   "outputs": [],
   "source": [
    "# let's grab two columns, we need to pass the list ['c1','c9'] here\n",
    "df[df['c1']>11][['c1','c9']]"
   ]
  },
  {
   "cell_type": "code",
   "execution_count": null,
   "metadata": {},
   "outputs": [],
   "source": [
    "# We can do this operation on rows using loc \n",
    "# Passing multiple rows in a list\n",
    "df[df['c1']>11].loc[['r3','r5']]"
   ]
  },
  {
   "cell_type": "code",
   "execution_count": null,
   "metadata": {},
   "outputs": [],
   "source": [
    "df"
   ]
  },
  {
   "cell_type": "code",
   "execution_count": null,
   "metadata": {},
   "outputs": [],
   "source": [
    "df['c1']==70"
   ]
  },
  {
   "cell_type": "code",
   "execution_count": null,
   "metadata": {},
   "outputs": [],
   "source": [
    "df[df['c1']==70]"
   ]
  },
  {
   "cell_type": "markdown",
   "metadata": {},
   "source": [
    "### Combine 2 conditions \n",
    "Let's try on c1 for a value > 60 and on c2 for a value > 80"
   ]
  },
  {
   "cell_type": "code",
   "execution_count": null,
   "metadata": {},
   "outputs": [],
   "source": [
    "df"
   ]
  },
  {
   "cell_type": "code",
   "execution_count": null,
   "metadata": {},
   "outputs": [],
   "source": [
    "(df['c1']>60) & (df['c2']>80)"
   ]
  },
  {
   "cell_type": "code",
   "execution_count": null,
   "metadata": {},
   "outputs": [],
   "source": [
    "df[(df['c1']>60) & (df['c2']>80)]\n",
    "# notice (df['c1']>60)&(df['c2']>80) in () for clear saperation\n",
    "# with in [] wrapped in df []"
   ]
  },
  {
   "cell_type": "markdown",
   "metadata": {},
   "source": [
    "&#9989;**NOTE:**<br>\n",
    "\"and\" operator will not work in the above condition and using \"and\" will return <br>\n",
    "\n",
    "        *ValueError: The truth value of a Series is ambiguous. Use a.empty, a.bool(), a.item(), a.any() or a.all().\n",
    "\n",
    "This \"ambiguous\" means, True, only work for a single booleans at a time \"True and False\". We need to use \"&\" instead. (\"|\" for or)<br>\n",
    "Try the above code using \"and\" <br>\n",
    "The \"and\" operator gets confused with series of True/False and raise Error"
   ]
  },
  {
   "cell_type": "markdown",
   "metadata": {},
   "source": [
    "### Let's have a quick look on couple of useful methods.\n",
    "***We will explore more later on in the course!***"
   ]
  },
  {
   "cell_type": "markdown",
   "metadata": {},
   "source": [
    "**`reset_index()`** and **`set_index()`**<br>\n",
    "We can reset the index of our dataframe to numerical index (which is default index), `inplace = True` to make the permanent change. *The existing index will be a new column.*"
   ]
  },
  {
   "cell_type": "code",
   "execution_count": null,
   "metadata": {},
   "outputs": [],
   "source": [
    "df.reset_index()"
   ]
  },
  {
   "cell_type": "code",
   "execution_count": null,
   "metadata": {},
   "outputs": [],
   "source": [
    "df"
   ]
  },
  {
   "cell_type": "code",
   "execution_count": null,
   "metadata": {},
   "outputs": [],
   "source": [
    "df.reset_index(inplace = True)\n",
    "df"
   ]
  },
  {
   "cell_type": "code",
   "execution_count": null,
   "metadata": {},
   "outputs": [],
   "source": [
    "df.reset_index()"
   ]
  },
  {
   "cell_type": "markdown",
   "metadata": {},
   "source": [
    "** consider, We have a column in our data that could be a useful index,<br>\n",
    "we want to set that column as an index!**<br>"
   ]
  },
  {
   "cell_type": "code",
   "execution_count": null,
   "metadata": {},
   "outputs": [],
   "source": [
    "df = pd.DataFrame(data = array_2d, index = index, columns = column)\n",
    "df"
   ]
  },
  {
   "cell_type": "code",
   "execution_count": null,
   "metadata": {},
   "outputs": [],
   "source": [
    "newind = 'a b c d e f g h i j'.split() # split at white spaces\n",
    "# let put newind as a col in the df\n",
    "#df2 = df\n",
    "df['newind'] = newind\n",
    "df\n",
    "\n",
    "#df = pd.DataFrame(data=array_2d, index=index, columns=columns)"
   ]
  },
  {
   "cell_type": "code",
   "execution_count": null,
   "metadata": {},
   "outputs": [],
   "source": [
    "# setting newind as an index, needs to be inplaced\n",
    "df.set_index('newind', inplace = True)"
   ]
  },
  {
   "cell_type": "code",
   "execution_count": null,
   "metadata": {},
   "outputs": [],
   "source": [
    "df"
   ]
  },
  {
   "cell_type": "markdown",
   "metadata": {},
   "source": [
    "### `head()`, `tail()`"
   ]
  },
  {
   "cell_type": "code",
   "execution_count": null,
   "metadata": {},
   "outputs": [],
   "source": [
    "# Returns first n rows\n",
    "df.head(n=2) # n = 5 by default "
   ]
  },
  {
   "cell_type": "code",
   "execution_count": null,
   "metadata": {},
   "outputs": [],
   "source": [
    "# Returns last n rows\n",
    "df.tail(n=2) # n = 5 by default"
   ]
  },
  {
   "cell_type": "markdown",
   "metadata": {},
   "source": [
    "### `info()`\n",
    "Provides a concise summary of the DataFrame."
   ]
  },
  {
   "cell_type": "code",
   "execution_count": null,
   "metadata": {},
   "outputs": [],
   "source": [
    "\n",
    "df.info()"
   ]
  },
  {
   "cell_type": "markdown",
   "metadata": {},
   "source": [
    "### `describe()`\n",
    "Generates descriptive statistics that summarize the central tendency, dispersion and shape of a dataset's distribution, excluding `NaN` values."
   ]
  },
  {
   "cell_type": "code",
   "execution_count": null,
   "metadata": {},
   "outputs": [],
   "source": [
    "df.describe()"
   ]
  },
  {
   "cell_type": "markdown",
   "metadata": {},
   "source": [
    "# Excellent! \n",
    "I want to congratulate here, you are making a great progress, keep it up!"
   ]
  }
 ],
 "metadata": {
  "kernelspec": {
   "display_name": "Python 3 (ipykernel)",
   "language": "python",
   "name": "python3"
  },
  "language_info": {
   "codemirror_mode": {
    "name": "ipython",
    "version": 3
   },
   "file_extension": ".py",
   "mimetype": "text/x-python",
   "name": "python",
   "nbconvert_exporter": "python",
   "pygments_lexer": "ipython3",
   "version": "3.10.12"
  }
 },
 "nbformat": 4,
 "nbformat_minor": 4
}
